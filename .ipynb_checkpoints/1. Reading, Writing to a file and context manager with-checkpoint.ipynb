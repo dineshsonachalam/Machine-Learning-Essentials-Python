{
 "cells": [
  {
   "cell_type": "code",
   "execution_count": 2,
   "metadata": {},
   "outputs": [
    {
     "name": "stdout",
     "output_type": "stream",
     "text": [
      " by Manuel GutiÃ©rrez NÃ¡jera\n",
      "\n",
      "I want to die as the day declines, \n",
      "at high sea and facing the sky, \n",
      "while agony seems like a dream \n",
      "and my soul like a bird that can fly. \n",
      "\n",
      "To hear not, at this last moment, \n",
      "once alone with sky and sea, \n",
      "any more voices nor weeping prayers \n",
      "than the majestic beating of the waves. \n",
      "\n",
      "To die when the sad light retires \n",
      "its golden network from the green waves \n",
      "to be like the sun that slowly expires; \n",
      "something very luminous that fades. \n",
      "\n",
      "To die, and die young, before \n",
      "fleeting time removes the gentle crown, \n",
      "while life still says: \"I'm yours\" \n",
      "though we know with our hearts that she lies. \n"
     ]
    }
   ],
   "source": [
    "# Reading a text file\n",
    "filename = './data/poem.txt'\n",
    "file = open(filename,mode='r') # r-> only read operation\n",
    "# Assigning text from a file to a variable text\n",
    "text = file.read()\n",
    "file.close() # clossing connection\n",
    "print(text)"
   ]
  },
  {
   "cell_type": "code",
   "execution_count": 17,
   "metadata": {},
   "outputs": [
    {
     "name": "stdout",
     "output_type": "stream",
     "text": [
      "Successfully writted to poem.txt file!\n"
     ]
    }
   ],
   "source": [
    "# Writing to a file\n",
    "filename = './data/poem.txt'\n",
    "file = open(filename,mode='w') # w -> write operation\n",
    "\n",
    "file.write(\"\"\"  \n",
    "                Some build rock walls all their lives,\n",
    "                When they die miles of walls divide them.\n",
    "                Others build rock walls, one rock on another,\n",
    "                And: then build a terrace, where they pray for love.\n",
    "\n",
    "                Yet others build walls to enclose orchards,\n",
    "                Endeavouring to find ways to fulfill hunger.\n",
    "                A few others build rock walls – to make a home,\n",
    "                It is their mission to serve humanity and nature.\n",
    "\n",
    "\n",
    "                I have no house, only open spaces,\n",
    "                Filled with truth, kindness and dreams.\n",
    "                Desire to see my country developed and great,\n",
    "                Dreams to see everywhere happiness and peace.\n",
    "           \"\"\")\n",
    "           \n",
    "print(\"Successfully writted to poem.txt file!\")\n",
    "file.close()"
   ]
  },
  {
   "cell_type": "code",
   "execution_count": 18,
   "metadata": {},
   "outputs": [
    {
     "name": "stdout",
     "output_type": "stream",
     "text": [
      "  \n",
      "                Some build rock walls all their lives,\n",
      "                When they die miles of walls divide them.\n",
      "                Others build rock walls, one rock on another,\n",
      "                And: then build a terrace, where they pray for love.\n",
      "\n",
      "                Yet others build walls to enclose orchards,\n",
      "                Endeavouring to find ways to fulfill hunger.\n",
      "                A few others build rock walls – to make a home,\n",
      "                It is their mission to serve humanity and nature.\n",
      "\n",
      "\n",
      "                I have no house, only open spaces,\n",
      "                Filled with truth, kindness and dreams.\n",
      "                Desire to see my country developed and great,\n",
      "                Dreams to see everywhere happiness and peace.\n",
      "           \n"
     ]
    }
   ],
   "source": [
    "# Reading a text file\n",
    "filename = './data/poem.txt'\n",
    "file = open(filename,mode='r') # r-> only read operation\n",
    "# Assigning text from a file to a variable text\n",
    "text = file.read()\n",
    "file.close() # clossing connection\n",
    "print(text)"
   ]
  },
  {
   "cell_type": "code",
   "execution_count": 19,
   "metadata": {},
   "outputs": [
    {
     "name": "stdout",
     "output_type": "stream",
     "text": [
      "  \n",
      "                Some build rock walls all their lives,\n",
      "                When they die miles of walls divide them.\n",
      "                Others build rock walls, one rock on another,\n",
      "                And: then build a terrace, where they pray for love.\n",
      "\n",
      "                Yet others build walls to enclose orchards,\n",
      "                Endeavouring to find ways to fulfill hunger.\n",
      "                A few others build rock walls – to make a home,\n",
      "                It is their mission to serve humanity and nature.\n",
      "\n",
      "\n",
      "                I have no house, only open spaces,\n",
      "                Filled with truth, kindness and dreams.\n",
      "                Desire to see my country developed and great,\n",
      "                Dreams to see everywhere happiness and peace.\n",
      "           \n"
     ]
    }
   ],
   "source": [
    "# Context manager- with -> once out of the context it is no longer open\n",
    "with open('./data/poem.txt','r') as file:\n",
    "    print(file.read()) # Reading the entire text\n",
    "    \n",
    "# Here you dont need to close the file,it automatically does"
   ]
  },
  {
   "cell_type": "code",
   "execution_count": 21,
   "metadata": {},
   "outputs": [
    {
     "name": "stdout",
     "output_type": "stream",
     "text": [
      "  \n",
      "\n",
      "                Some build rock walls all their lives,\n",
      "\n",
      "                When they die miles of walls divide them.\n",
      "\n"
     ]
    }
   ],
   "source": [
    "# Using Context manager - with if you want only need first 2 lines from the poem -> use readline()\n",
    "with open('./data/poem.txt','r') as file:\n",
    "    print(file.readline())# Printing the first line\n",
    "    print(file.readline())# Printing the second line\n",
    "    print(file.readline())# Printing the third line"
   ]
  },
  {
   "cell_type": "code",
   "execution_count": 22,
   "metadata": {},
   "outputs": [
    {
     "name": "stdout",
     "output_type": "stream",
     "text": [
      "1. Reading, Writing to a file and context manager with.ipynb\n",
      "data\n",
      "README.md\n",
      "Untitled.ipynb\n"
     ]
    }
   ],
   "source": [
    "# Exploring your current directory\n",
    "# 1. Python Magic command -> ! ls ->gives content of your current directory\n",
    "! ls"
   ]
  }
 ],
 "metadata": {
  "kernelspec": {
   "display_name": "Python 3",
   "language": "python",
   "name": "python3"
  },
  "language_info": {
   "codemirror_mode": {
    "name": "ipython",
    "version": 3
   },
   "file_extension": ".py",
   "mimetype": "text/x-python",
   "name": "python",
   "nbconvert_exporter": "python",
   "pygments_lexer": "ipython3",
   "version": "3.6.3"
  }
 },
 "nbformat": 4,
 "nbformat_minor": 2
}
